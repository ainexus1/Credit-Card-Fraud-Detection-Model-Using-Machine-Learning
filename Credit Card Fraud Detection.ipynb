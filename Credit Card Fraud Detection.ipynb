{
 "cells": [
  {
   "cell_type": "markdown",
   "id": "e5abe5de-d81b-4f33-9db2-3bc84ce8fd54",
   "metadata": {},
   "source": [
    "# Credit Card Fraud Detection Using Machine Learning"
   ]
  },
  {
   "cell_type": "code",
   "execution_count": null,
   "id": "8b8a6b47-5341-4af0-a44d-c25145b243ea",
   "metadata": {},
   "outputs": [],
   "source": [
    "import pandas as pd\n",
    "import numpy as np\n",
    "import pickle\n",
    "import matplotlib.pyplot as plt\n",
    "from scipy import stats\n",
    "import tensorflow as tf\n",
    "import seaborn as sns\n",
    "from pylab import rcParams\n",
    "from sklearn.model_selection import train_test_split\n",
    "from sklearn.preprocessing import MinMaxScaler\n",
    "from sklearn.linear_model import LinearRegression\n",
    "from sklearn.manifold import TSNE\n",
    "from sklearn.metrics import classification_report, accuracy_score\n",
    "from keras.models import Model, load_model\n",
    "from keras.layers import Input, Dense\n",
    "from keras.callbacks import ModelCheckpoint, TensorBoard\n",
    "from keras import regularizers, Sequential"
   ]
  },
  {
   "cell_type": "code",
   "execution_count": null,
   "id": "420894f8-235a-4a74-8a0c-33cae5919293",
   "metadata": {},
   "outputs": [],
   "source": [
    "sns.set(style='whitegrid', palette='muted', font_scale=1.5)\n",
    "rcParams['figure.figsize'] = 14, 8\n",
    "RANDOM_SEED = 42\n",
    "LABELS = [\"Normal\", \"Fraud\"]"
   ]
  },
  {
   "cell_type": "code",
   "execution_count": null,
   "id": "86a415fd-04d3-40bb-99e9-10cf1c08f427",
   "metadata": {},
   "outputs": [],
   "source": [
    "df = pd.read_csv(\"\") #place the dataset"
   ]
  },
  {
   "cell_type": "code",
   "execution_count": null,
   "id": "aa0e466c-7dd1-4517-b1d0-62fdcd312eca",
   "metadata": {},
   "outputs": [],
   "source": [
    "count_classes = pd.value_counts(df['Class'], sort= True)\n",
    "count_classes.plot(kind='bar', rot=0)\n",
    "plt.title(\"Transaction Class Distribution\")\n",
    "plt.xticks(range(2), LABELS)\n",
    "plt.xlabel('Class')\n",
    "plt.ylabel('Frequency')"
   ]
  },
  {
   "cell_type": "code",
   "execution_count": null,
   "id": "c38d97e7-a7f6-4817-b781-ce212a65fa79",
   "metadata": {},
   "outputs": [],
   "source": [
    "frauds = df[df.Class == 1]\n",
    "normal = df[df.Class == 0]\n",
    "frauds.shape"
   ]
  },
  {
   "cell_type": "markdown",
   "id": "a8f027ea-b791-47ee-aad9-da1fdc44822a",
   "metadata": {},
   "source": [
    "# Checking the Amount of Money involved in each kind of transaction"
   ]
  },
  {
   "cell_type": "code",
   "execution_count": null,
   "id": "98c3345a-fd40-41c7-9715-ad8d617d203f",
   "metadata": {},
   "outputs": [],
   "source": [
    "frauds.Amount.describe()"
   ]
  },
  {
   "cell_type": "code",
   "execution_count": null,
   "id": "6d0bbeda-90e1-474a-bf23-3eb2a5cfa219",
   "metadata": {},
   "outputs": [],
   "source": [
    "normal.Amount.describe()"
   ]
  },
  {
   "cell_type": "code",
   "execution_count": null,
   "id": "0adfab1a-ef7b-4980-a5a1-ad72e0b9d5df",
   "metadata": {},
   "outputs": [],
   "source": [
    "f, (ax1, ax2) = plt.subplots(2, 1, sharex = True)\n",
    "f.suptitle('Amount per transaction by class')\n",
    "bins = 50\n",
    "\n",
    "ax1.hist(frauds.Amount, bins = bins)\n",
    "ax1.set_title('Fraud')\n",
    "ax2.hist(normal.Amount, bins = bins)\n",
    "ax2.set_title('Normal')\n",
    "\n",
    "plt.xlabel('Amount')\n",
    "plt.ylabel('Number of transactions')\n",
    "plt.xlim(0, 20000)\n",
    "plt.yscale('log')\n",
    "plt.show()"
   ]
  },
  {
   "cell_type": "markdown",
   "id": "418cbf6e-071c-4800-876c-20902e7bbf15",
   "metadata": {},
   "source": [
    "# Plotting time of transaction to check for correlation"
   ]
  },
  {
   "cell_type": "code",
   "execution_count": null,
   "id": "0d57d298-9a9f-4792-a80d-b00893de761b",
   "metadata": {},
   "outputs": [],
   "source": [
    "f,(ax1, ax2) = plt.subplots(2, 1, sharex = True)\n",
    "f.suptitle('Time of Transaction Vs Amount by Class')\n",
    "\n",
    "ax1.scatter(frauds.Time, frauds.Amount)\n",
    "ax1.set_title('Fraud')\n",
    "\n",
    "ax2.scatter(normal.Time, normal.Amount)\n",
    "ax2.set_title('Normal')\n",
    "\n",
    "plt.xlabel('Time in Seconds')\n",
    "plt.ylabel('Amount')\n",
    "plt.show()"
   ]
  },
  {
   "cell_type": "code",
   "execution_count": null,
   "id": "23797815-3b5b-4bb3-9801-a05d4df75a4f",
   "metadata": {},
   "outputs": [],
   "source": [
    "data = df.drop(['Time'], axis = 1)"
   ]
  },
  {
   "cell_type": "markdown",
   "id": "34679dac-290f-4422-b759-ecd3e1950824",
   "metadata": {},
   "source": [
    "# Scaling the amount using StandardScaler"
   ]
  },
  {
   "cell_type": "code",
   "execution_count": null,
   "id": "de2c6844-25dc-4c36-af4b-fd68f707fc69",
   "metadata": {},
   "outputs": [],
   "source": [
    "from sklearn.preprocessing import StandardScaler\n",
    "data['Amount'] = StandardScaler().fit_transform(data['Amount'].values.reshape(-1, 1))"
   ]
  },
  {
   "cell_type": "markdown",
   "id": "cf8ff845-6a37-481b-b1ad-ae67c7169db2",
   "metadata": {},
   "source": [
    "# Building the Model"
   ]
  },
  {
   "cell_type": "code",
   "execution_count": null,
   "id": "1e6f56ee-f363-47b3-a841-de89755fec84",
   "metadata": {},
   "outputs": [],
   "source": [
    "import pandas as pd\n",
    "\n",
    "non_fraud = data[data['Class'] == 0]\n",
    "fraud = data[data['Class'] == 1]\n",
    "df = pd.concat([non_fraud, fraud]).sample(frac=1).reset_index(drop=True)\n",
    "x = df.drop(['Class'], axis=1).values\n",
    "y = df[\"Class\"].values"
   ]
  },
  {
   "cell_type": "markdown",
   "id": "249b5e19-1639-4848-9530-8aadf091be78",
   "metadata": {},
   "source": [
    "# Spliting the data "
   ]
  },
  {
   "cell_type": "code",
   "execution_count": null,
   "id": "d3c16dc6-3e87-4b3c-99c1-75d6fd66f37b",
   "metadata": {},
   "outputs": [],
   "source": [
    "x_train, x_test, = train_test_split(data, test_size = .2, random_state= RANDOM_SEED)\n",
    "x_train_fraud = x_train[x_train.Class==1]\n",
    "x_train = x_train[x_train.Class ==0]\n",
    "x_train = x_train.drop(['Class'], axis =1)\n",
    "y_test = x_test['Class']\n",
    "x_test = x_test.drop(['Class'], axis =1)\n",
    "x_train = x_train.values\n",
    "x_test = x_test.values"
   ]
  },
  {
   "cell_type": "markdown",
   "id": "130122fa-c9ef-4627-9e2a-29cd9aa4df5f",
   "metadata": {},
   "source": [
    "# Autoencoder Model"
   ]
  },
  {
   "cell_type": "code",
   "execution_count": null,
   "id": "127d0aa9-4339-4ffc-8a27-7178b5c51258",
   "metadata": {},
   "outputs": [],
   "source": [
    "input_layer = Input(shape=(x.shape[1],))\n",
    "\n",
    "encoded = Dense(100, activation='tanh', activity_regularizer = regularizers.l1(10e-5))(input_layer)\n",
    "encoded = Dense(50, activation = 'relu')(encoded)\n",
    "\n",
    "decoded = Dense(50, activation= 'tanh')(encoded)\n",
    "decoded = Dense(100, activation='tanh')(decoded)\n",
    "\n",
    "output_layer = Dense(x.shape[1], activation='relu')(decoded)"
   ]
  },
  {
   "cell_type": "markdown",
   "id": "2ddcbc6a-bba2-416c-8cf4-bb7608dc4327",
   "metadata": {},
   "source": [
    "# Training the Model"
   ]
  },
  {
   "cell_type": "code",
   "execution_count": null,
   "id": "dc19d3e6-c50e-4df7-9b60-667d857b57f8",
   "metadata": {},
   "outputs": [],
   "source": [
    "autoencoder = Model(input_layer, output_layer)\n",
    "autoencoder.compile(optimizer=\"adadelta\", loss=\"mse\")"
   ]
  },
  {
   "cell_type": "markdown",
   "id": "8d38ff61-3bec-44db-87ad-343c15f67b51",
   "metadata": {},
   "source": [
    "# Scaling the Values"
   ]
  },
  {
   "cell_type": "code",
   "execution_count": null,
   "id": "a4314c0b-4d5c-419a-a5f8-93a203c632ec",
   "metadata": {},
   "outputs": [],
   "source": [
    "x = data.drop([\"Class\"], axis=1)\n",
    "y = data[\"Class\"].values\n",
    "\n",
    "x_scale = MinMaxScaler().fit_transform(x.values)\n",
    "x_norm, x_fraud = x_scale[y == 0], x_scale[y==1]\n",
    "\n",
    "autoencoder.fit(x_norm[0:2000], x_norm[0:2000], batch_size=256, epochs=10, shuffle=True, validation_split=0.2);"
   ]
  },
  {
   "cell_type": "markdown",
   "id": "c65a6185-3e57-4b89-8923-e0f2ce6082f3",
   "metadata": {},
   "source": [
    "# Obtain the Hidden Representation"
   ]
  },
  {
   "cell_type": "code",
   "execution_count": null,
   "id": "c6d32b68-c3e6-4b69-909d-ea34053147d3",
   "metadata": {},
   "outputs": [],
   "source": [
    "hidden_representation = Sequential()\n",
    "hidden_representation.add(autoencoder.layers[0])\n",
    "hidden_representation.add(autoencoder.layers[1])\n",
    "hidden_representation.add(autoencoder.layers[2])"
   ]
  },
  {
   "cell_type": "markdown",
   "id": "850c0331-7e50-48c4-8cd0-f758fef3837d",
   "metadata": {},
   "source": [
    "# Model Prediction"
   ]
  },
  {
   "cell_type": "code",
   "execution_count": null,
   "id": "762f4610-dc17-4c2f-a380-b3f979160297",
   "metadata": {},
   "outputs": [],
   "source": [
    "x = hidden_representation.predict(x_norm[:3000])\n",
    "y = hidden_representation.predict(x_fraud)"
   ]
  },
  {
   "cell_type": "code",
   "execution_count": null,
   "id": "3e23b63f-b2aa-4743-8b9d-af45fd879388",
   "metadata": {},
   "outputs": [],
   "source": [
    "rep_x = np.append(x, y, axis =0)\n",
    "y_n = np.zeros(x.shape[0])\n",
    "y_f = np.ones(y.shape[0])\n",
    "rep_y = np.append(y_n, y_f)"
   ]
  },
  {
   "cell_type": "code",
   "execution_count": null,
   "id": "07acbd50-1ed5-41fb-baa4-7e7c605b3510",
   "metadata": {},
   "outputs": [],
   "source": [
    "train_x, val_x, train_y, val_y = train_test_split(rep_x, rep_y, test_size = .25)"
   ]
  },
  {
   "cell_type": "markdown",
   "id": "65bdb5ef-ea1f-4dbe-9e88-eaf686019518",
   "metadata": {},
   "source": [
    "# Credit Card Fraud Detection Prediction Model"
   ]
  },
  {
   "cell_type": "code",
   "execution_count": null,
   "id": "eb6128df-9913-4275-97d1-0a25dcdbd852",
   "metadata": {},
   "outputs": [],
   "source": [
    "from sklearn.linear_model import LogisticRegression\n",
    "clf = LogisticRegression(solver=\"lbfgs\").fit(train_x, train_y)\n",
    "pred_y = clf.predict(val_x)\n",
    "\n",
    "print(\"\")\n",
    "print(\"Calsssification Report: \")\n",
    "print(classification_report(val_y, pred_y))\n",
    "\n",
    "print(\"\")\n",
    "print(\"Accuracy_score:\", accuracy_score(val_y, val_y))"
   ]
  }
 ],
 "metadata": {
  "kernelspec": {
   "display_name": "Python 3 (ipykernel)",
   "language": "python",
   "name": "python3"
  },
  "language_info": {
   "codemirror_mode": {
    "name": "ipython",
    "version": 3
   },
   "file_extension": ".py",
   "mimetype": "text/x-python",
   "name": "python",
   "nbconvert_exporter": "python",
   "pygments_lexer": "ipython3",
   "version": "3.11.5"
  }
 },
 "nbformat": 4,
 "nbformat_minor": 5
}
